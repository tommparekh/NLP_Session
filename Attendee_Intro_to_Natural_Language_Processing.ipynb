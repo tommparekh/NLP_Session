{
  "nbformat": 4,
  "nbformat_minor": 0,
  "metadata": {
    "colab": {
      "name": "Attendee Intro to Natural Language Processing.ipynb",
      "provenance": [],
      "collapsed_sections": [],
      "include_colab_link": true
    },
    "kernelspec": {
      "name": "python3",
      "display_name": "Python 3"
    }
  },
  "cells": [
    {
      "cell_type": "markdown",
      "metadata": {
        "id": "view-in-github",
        "colab_type": "text"
      },
      "source": [
        "<a href=\"https://colab.research.google.com/github/tommparekh/NLP_Session/blob/master/Attendee_Intro_to_Natural_Language_Processing.ipynb\" target=\"_parent\"><img src=\"https://colab.research.google.com/assets/colab-badge.svg\" alt=\"Open In Colab\"/></a>"
      ]
    },
    {
      "cell_type": "markdown",
      "metadata": {
        "id": "SbIn3W7KpgzF",
        "colab_type": "text"
      },
      "source": [
        "# Intro to Natural Language Processing\n",
        "- Throughout this notebook we will be exploring foundational concepts regarding NLP and applying them in a miniature project where we analyze sentiment from hotel reviews.\n",
        "- Anytime you see a line surrounded by triple asterisks, `***LIKE THIS***`, that is a line of code that you will need to replace or edit.\n",
        "- Have fun and good luck coding!"
      ]
    },
    {
      "cell_type": "markdown",
      "metadata": {
        "id": "OA4LkYlgleLy",
        "colab_type": "text"
      },
      "source": [
        "> To execute a line or block of code, simply click the \"Play\" button on the left side or use the keyboard shortcut \"Shift + Enter\"\n",
        "> When that code block has actually been executed, the blank brackets will change to have a number inside of them."
      ]
    },
    {
      "cell_type": "code",
      "metadata": {
        "id": "g6H9AHD_lhzK",
        "colab_type": "code",
        "colab": {}
      },
      "source": [
        "x = ***EDIT THIS CODE***\n",
        "print(x)"
      ],
      "execution_count": 0,
      "outputs": []
    },
    {
      "cell_type": "markdown",
      "metadata": {
        "id": "R5oCQ00ypRfw",
        "colab_type": "text"
      },
      "source": [
        "### Importing the Packages That We'll Need\n",
        "One of the things that makes Python **great** for data science is all of the different libraries that exist so we don't have to code them from scratch. Tonight we'll be taking advantage of:\n",
        "- [Pandas](https://pandas.pydata.org/) for data wrangling and analysis\n",
        "- [Scikit-learn](https://scikit-learn.org/stable/) for machine learning\n",
        "- [Regex](https://docs.python.org/3/library/re.html) for regular expression and text parsing\n",
        "- [Matplotlib](https://matplotlib.org/) for visualizing and plotting our data"
      ]
    },
    {
      "cell_type": "code",
      "metadata": {
        "id": "nWxx6fOTpZHi",
        "colab_type": "code",
        "colab": {}
      },
      "source": [
        "import pandas as pd\n",
        "import sklearn\n",
        "import re\n",
        "import matplotlib.pyplot as plt\n",
        "%matplotlib inline"
      ],
      "execution_count": 0,
      "outputs": []
    },
    {
      "cell_type": "markdown",
      "metadata": {
        "id": "bQ6wSzd0p7Uz",
        "colab_type": "text"
      },
      "source": [
        "## Import the Data Set\n",
        "Pandas can work with information from all kinds of data sources. Below, we'll import the data we need from a GitHub URL and read it into a Pandas Dataframe."
      ]
    },
    {
      "cell_type": "code",
      "metadata": {
        "id": "4U7q1yZopdv0",
        "colab_type": "code",
        "colab": {}
      },
      "source": [
        "data = pd.read_csv('https://github.com/Thinkful-Ed/data-201-resources/raw/master/hotel-reviews.csv')\n",
        "data.head(3)"
      ],
      "execution_count": 0,
      "outputs": []
    },
    {
      "cell_type": "code",
      "metadata": {
        "id": "hx1m4zAh03t_",
        "colab_type": "code",
        "colab": {}
      },
      "source": [
        "# Checking the size of our data (rows, columns)\n",
        "data.shape"
      ],
      "execution_count": 0,
      "outputs": []
    },
    {
      "cell_type": "markdown",
      "metadata": {
        "id": "SHo5b892v00O",
        "colab_type": "text"
      },
      "source": [
        "We don't need to worry about using all of our different columns for this project. Instead, we'll focus just on the test review and ratings columns."
      ]
    },
    {
      "cell_type": "code",
      "metadata": {
        "id": "s__KGVIXvzfl",
        "colab_type": "code",
        "colab": {}
      },
      "source": [
        "data[['name', 'reviews.rating', 'reviews.text']]\n",
        "***OVERWRITE OUR ORIGINAL DATA VARIABLE WITH THIS***"
      ],
      "execution_count": 0,
      "outputs": []
    },
    {
      "cell_type": "markdown",
      "metadata": {
        "id": "Hf150eD4wRH9",
        "colab_type": "text"
      },
      "source": [
        "Pandas also has some cool funcitonality that let's us quickly edit aspects of our dataframe object like the column names. **Don't forget to make sure those changes persist by using the `inplace` parameter or by overwriting the variable like we did above!**"
      ]
    },
    {
      "cell_type": "code",
      "metadata": {
        "id": "btS5OpxtgGL5",
        "colab_type": "code",
        "colab": {}
      },
      "source": [
        "data.rename(columns={'name':'hotel_name', 'reviews.rating': 'review_rating', 'reviews.text':'review_text'}, inplace=***MAKE THIS TRUE***)"
      ],
      "execution_count": 0,
      "outputs": []
    },
    {
      "cell_type": "code",
      "metadata": {
        "id": "7hZm0yYTwvfj",
        "colab_type": "code",
        "colab": {}
      },
      "source": [
        "# Check to make sure our changes took effect\n",
        "data.head(3)"
      ],
      "execution_count": 0,
      "outputs": []
    },
    {
      "cell_type": "markdown",
      "metadata": {
        "id": "LdFRYurbsGty",
        "colab_type": "text"
      },
      "source": [
        "## Data Wrangling / Processing\n",
        "A major part of every data science project is the data wrangling and processing phase, and this is especially true in NLP. During this section of the notebook, we'll cover:\n",
        "- How to clean up the clutter from our initial text.\n",
        "- How to work with variables assignment and Pandas syntax to make sure those changes persist.\n",
        "- How to use Pandas' `map` functionality to assign more relevant labels to our reviews."
      ]
    },
    {
      "cell_type": "code",
      "metadata": {
        "id": "_liArCEux3T6",
        "colab_type": "code",
        "colab": {}
      },
      "source": [
        "# Make everything lower case — but this doesn't actually change our dataframe!\n",
        "data['review_text'].str.lower()"
      ],
      "execution_count": 0,
      "outputs": []
    },
    {
      "cell_type": "code",
      "metadata": {
        "id": "u08SeRvjx8Ff",
        "colab_type": "code",
        "colab": {}
      },
      "source": [
        "# Make sure that change actually \"sticks\"\n",
        "data['review_text'] = data['review_text'].str.lower()"
      ],
      "execution_count": 0,
      "outputs": []
    },
    {
      "cell_type": "code",
      "metadata": {
        "id": "0RKG-AZ9pgHj",
        "colab_type": "code",
        "colab": {}
      },
      "source": [
        "# Remove non-text characters in a similar fashion.\n",
        "data['review_text'] = data['review_text'].str.replace(r'\\.|\\!|\\?|\\'|,|-|\\(|\\)', \"\")"
      ],
      "execution_count": 0,
      "outputs": []
    },
    {
      "cell_type": "code",
      "metadata": {
        "id": "JO5ea-JZ3ZkH",
        "colab_type": "code",
        "colab": {}
      },
      "source": [
        "# And again fill in blank reviews with '' rather than Null (which would give us errors).\n",
        "data['review_text'] = data['review_text'].fillna('')"
      ],
      "execution_count": 0,
      "outputs": []
    },
    {
      "cell_type": "code",
      "metadata": {
        "id": "fx6bJ3I70zff",
        "colab_type": "code",
        "colab": {}
      },
      "source": [
        "data.head(3)"
      ],
      "execution_count": 0,
      "outputs": []
    },
    {
      "cell_type": "markdown",
      "metadata": {
        "id": "LvtBtKBg3dBo",
        "colab_type": "text"
      },
      "source": [
        "Since we're working on a sentiment analysis project, let's have some fun and change the reviews from numbers to a more emotional human sentiment!"
      ]
    },
    {
      "cell_type": "code",
      "metadata": {
        "id": "3P-V_rYPhCZa",
        "colab_type": "code",
        "colab": {}
      },
      "source": [
        "# Taking our hotel ratings and \"translating\" them to sentiment labels\n",
        "data['review_sentiment'] = data['review_rating'].map({1.0:***CHANGE THIS CODE TO A STRING***,\n",
        "                                                      2.0:***CHANGE THIS CODE TO A STRING***,\n",
        "                                                      3.0:***CHANGE THIS CODE TO A STRING***,\n",
        "                                                      4.0:***CHANGE THIS CODE TO A STRING***,\n",
        "                                                      5.0:***CHANGE THIS CODE TO A STRING***}, )"
      ],
      "execution_count": 0,
      "outputs": []
    },
    {
      "cell_type": "markdown",
      "metadata": {
        "id": "RrXI4Oes30NG",
        "colab_type": "text"
      },
      "source": [
        "After we've done that we can get rid of the old rating column and get rid of any of our rows that are missing a review."
      ]
    },
    {
      "cell_type": "code",
      "metadata": {
        "id": "CCvnwdxF3098",
        "colab_type": "code",
        "colab": {}
      },
      "source": [
        "# Dropping that original rating column\n",
        "data.drop(columns='review_rating', inplace=True)\n",
        "\n",
        "# Dropping all rows where there is a null value in the sentiment column\n",
        "data.dropna(subset=['review_sentiment'], inplace=True)"
      ],
      "execution_count": 0,
      "outputs": []
    },
    {
      "cell_type": "code",
      "metadata": {
        "id": "K4vMp_Y4wCMu",
        "colab_type": "code",
        "colab": {}
      },
      "source": [
        "data.head(3)"
      ],
      "execution_count": 0,
      "outputs": []
    },
    {
      "cell_type": "code",
      "metadata": {
        "id": "JxrBPpCghw73",
        "colab_type": "code",
        "colab": {}
      },
      "source": [
        "# Quick look at the distribution of our label\n",
        "data['review_sentiment'].value_counts().plot(kind = 'bar')\n",
        "plt.title('Label Counts in the Data Set')\n",
        "plt.xlabel('***EDIT THIS STRING***')\n",
        "plt.ylabel('***EDIT THIS STRING***');"
      ],
      "execution_count": 0,
      "outputs": []
    },
    {
      "cell_type": "markdown",
      "metadata": {
        "id": "SRgPXcCuwy9Y",
        "colab_type": "text"
      },
      "source": [
        "## Creating a Bag of Words\n",
        "- In this step, we'll take all of that text that we cleaned up and encode it so our model can understand it.\n",
        "- Scikit-learn has a number of[ different ways](https://scikit-learn.org/stable/modules/feature_extraction.html) to do this, today we'll stick with the [CountVectorizer](https://scikit-learn.org/stable/modules/generated/sklearn.feature_extraction.text.CountVectorizer.html)."
      ]
    },
    {
      "cell_type": "code",
      "metadata": {
        "id": "ZAt9U7JBpiRs",
        "colab_type": "code",
        "colab": {}
      },
      "source": [
        "# Import and initiate a vectorizer.\n",
        "from sklearn.feature_extraction.text import CountVectorizer\n",
        "\n",
        "# The max features is how many words we want to allow us to create columns for.\n",
        "vectorizer = CountVectorizer(max_features=5000)"
      ],
      "execution_count": 0,
      "outputs": []
    },
    {
      "cell_type": "code",
      "metadata": {
        "id": "8dLDUo5Zpkmb",
        "colab_type": "code",
        "colab": {}
      },
      "source": [
        "# Vectorize our reviews to transform sentences into columns.\n",
        "X = vectorizer.fit_transform(data['review_text'])\n",
        "\n",
        "# And then put all of that in a table.\n",
        "bag_of_words = pd.DataFrame(X.toarray(), columns=vectorizer.get_feature_names())"
      ],
      "execution_count": 0,
      "outputs": []
    },
    {
      "cell_type": "code",
      "metadata": {
        "id": "-aQ0M5UGj0V_",
        "colab_type": "code",
        "colab": {}
      },
      "source": [
        "bag_of_words.head(3)"
      ],
      "execution_count": 0,
      "outputs": []
    },
    {
      "cell_type": "markdown",
      "metadata": {
        "id": "WP-va30mx4WU",
        "colab_type": "text"
      },
      "source": [
        "## Modeling\n",
        "Now that we've got everything cleaned up and restructured, it's time to model!\n",
        "- We'll use our `bag_of_words` as our features to predict our label of `review_sentiment`.\n",
        "- `X` is a common convention for designating our feature matrix  — the same is true for using `y` for the target series.\n",
        "- Once we've defined those, we can have our [Multinomial Naive Bayes model](https://scikit-learn.org/stable/modules/generated/sklearn.naive_bayes.MultinomialNB.html#sklearn.naive_bayes.MultinomialNB) learn from them just like we would in many other machine learning problems."
      ]
    },
    {
      "cell_type": "code",
      "metadata": {
        "id": "zXq4WThNpn2z",
        "colab_type": "code",
        "colab": {}
      },
      "source": [
        "# X is our features or attributes.\n",
        "X = bag_of_words\n",
        "\n",
        "# y is our review sentiment column (the outcome we care about).\n",
        "y = data['review_sentiment']"
      ],
      "execution_count": 0,
      "outputs": []
    },
    {
      "cell_type": "code",
      "metadata": {
        "id": "I2-VuQ_ZiHNm",
        "colab_type": "code",
        "colab": {}
      },
      "source": [
        "# Import and instantiate our model\n",
        "from sklearn.naive_bayes import MultinomialNB\n",
        "model = MultinomialNB()\n",
        "\n",
        "# Train our model on the review text and associated labels\n",
        "trained_model = model.fit(X, y)"
      ],
      "execution_count": 0,
      "outputs": []
    },
    {
      "cell_type": "markdown",
      "metadata": {
        "id": "Tu3zLX4LqC-c",
        "colab_type": "text"
      },
      "source": [
        "## Making Predictions From Our Model\n",
        "After our model has learned from our historical data, we can introduce new or unseen reviews to it and ask it to predict the sentiment of those.\n",
        "- Go ahead and play around with the text in your review and see how the output changes!"
      ]
    },
    {
      "cell_type": "code",
      "metadata": {
        "id": "FzhMrHanprBj",
        "colab_type": "code",
        "colab": {}
      },
      "source": [
        "# Write your own hotel review here...\n",
        "test_review = ['''\n",
        "    ***EDIT THIS STRING***.\n",
        "    ''']"
      ],
      "execution_count": 0,
      "outputs": []
    },
    {
      "cell_type": "code",
      "metadata": {
        "id": "7GzGD4Vtptcs",
        "colab_type": "code",
        "colab": {}
      },
      "source": [
        "# Convert the test review just like we did earlier.\n",
        "X_test = vectorizer.transform(test_review).toarray()"
      ],
      "execution_count": 0,
      "outputs": []
    },
    {
      "cell_type": "code",
      "metadata": {
        "id": "3_vklGiZzg_J",
        "colab_type": "code",
        "colab": {}
      },
      "source": [
        "# Use our model to predict a label for it\n",
        "prediction = trained_model.predict(X_test)\n",
        "print(prediction)"
      ],
      "execution_count": 0,
      "outputs": []
    },
    {
      "cell_type": "code",
      "metadata": {
        "id": "7tE0DcTTpu1r",
        "colab_type": "code",
        "colab": {}
      },
      "source": [
        "# Alternatively, we can predict a probability for each sentiment\n",
        "probas = trained_model.predict_proba(X_test)[0]\n",
        "\n",
        "# And convert it to a more readable output.\n",
        "probabilities = [str(int(x*100))+'%' for x in probas]\n",
        "labels = list(trained_model.classes_)\n",
        "dict(zip(probabilities, labels))"
      ],
      "execution_count": 0,
      "outputs": []
    },
    {
      "cell_type": "markdown",
      "metadata": {
        "id": "OZQpZSl5Ry6B",
        "colab_type": "text"
      },
      "source": [
        "# Take Home Challenge\n",
        "Now that you've been introduced to some of the foundational concepts within the NLP space, we want you to apply what you've learned outside of the workshop environment. We went over the concepts of using \"stop words\" and \"n-grams\" to (hopefully) improve your analysis and the accuracy of your model, but didn't actually apply them yet in this workbook.\n",
        "\n",
        "To do so:\n",
        "- Try removing stop words from your bag of words structure before feeding it into the Multinomial NB classifier. This can be as simple as including an argument for the `stop_words` parameter in the [CountVectorizer](https://scikit-learn.org/stable/modules/generated/sklearn.feature_extraction.text.CountVectorizer.html#sklearn.feature_extraction.text.CountVectorizer) class.\n",
        "- Additionally, try using bigrams to create some additional context for the text that you're analyzing. Again, scikit-learn makes implementing that change relatively easy by including an `ngram_range` parameter within the same [CountVectorizer](https://scikit-learn.org/stable/modules/generated/sklearn.feature_extraction.text.CountVectorizer.html#sklearn.feature_extraction.text.CountVectorizer) class.\n",
        "- As you make these changes (and maybe others!), be sure to note how your predictions change accordingly. Do they behave more or less in the ways that you expect?\n",
        "\n",
        "**Bonus Advanced Challenge:**\n",
        "Looking to take your modeling powers to the next level? You're going to want a way to see if the predictions that your model is making are accurate or not. In a practical setting, one of the most common ways to do this is by using [train-test-split](https://scikit-learn.org/stable/modules/generated/sklearn.model_selection.train_test_split.html).\n",
        " - You will take a large portion of your data (75% by default using `sklearn`) and train your model or have it learn from all of that information.\n",
        " - The other smaller portion (25% in this case) will be held out — your model will **not** learn from these data points. Instead, they can be used to simulate real-world or unseen data points.\n",
        " - You will ask your model to make predictions on this smaller set and then compare the predictions made against the actual ground truths to find out how well your model performs.\n",
        " - Some common metrics for classification performance are [accuracy](https://scikit-learn.org/stable/modules/generated/sklearn.metrics.accuracy_score.html#sklearn.metrics.accuracy_score) and inspecting the [confusion matrix](https://scikit-learn.org/stable/modules/generated/sklearn.metrics.confusion_matrix.html).\n",
        "\n",
        "# Keep Learning with Thinkful\n",
        "If you enjoyed today's session and want to take a deeper dive into many of the topics that we covered today like Pandas, SQL, predictive modeling, visualizing your data, and so much more, we'd love to have you join us again!\n",
        "- Check out more of our webinars at [Thinkful Webinars](https://www.thinkful.com/webinars/)\n",
        "- Get a taste of what the actual program would be like with our [Two-Week Free Trial](https://www.thinkful.com/join/sign-up/?signup_key=virtual-data)\n",
        "  - Flexible Online Course\n",
        "  - Start with Python and Statistics\n",
        "  - Access to a Personal Program Manager\n",
        "  - Attend Unlimited Q&A Sessions \n",
        "  - Participate in the Student Slack Community"
      ]
    }
  ]
}